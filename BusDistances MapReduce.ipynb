{
 "cells": [
  {
   "cell_type": "code",
   "execution_count": 1,
   "metadata": {},
   "outputs": [
    {
     "name": "stdout",
     "output_type": "stream",
     "text": [
      "Overwriting busdistances.py\n"
     ]
    }
   ],
   "source": [
    "%%writefile busdistances.py\n",
    "from mrjob.job import MRJob\n",
    "\n",
    "class busdistances(MRJob):\n",
    "    \n",
    "    def mapper(self, _, line):\n",
    "        from datetime import datetime\n",
    "        from collections import defaultdict\n",
    "        parts=line.split(',')\n",
    "        try:\n",
    "            tstamp=datetime.strptime(parts[0], '%Y-%m-%dT%H:%M:%S.%f%z').time()\n",
    "            hrs,mins,secs,mils=int(tstamp.hour), int(tstamp.minute), int(tstamp.second), int(tstamp.microsecond)\n",
    "            \n",
    " \n",
    "            bref=parts[1]+parts[2]+parts[6]+parts[9]\n",
    "            \n",
    "            yield str(h)+';'+bref, [(hrs,mins,secs,mils), float(parts[5]), float(parts[4])] \n",
    "        except:\n",
    "            pass\n",
    "    def combiner(self, key,values):\n",
    "        from math import radians, cos, sin, asin, sqrt\n",
    "        def haversine(p1, p2):  # p1, p2 coordinate points of form (latitude, longitude).\n",
    "            \n",
    "            pr1 = (radians(float(p1[0])), radians(float(p1[1])))\n",
    "            pr2 = (radians(float(p2[0])), radians(float(p2[1])))\n",
    "\n",
    "            # Haversine formula\n",
    "            dlat = pr2[0] - pr1[0]   # Difference of latitudes.\n",
    "            dlon = pr2[1] - pr1[1]    # Difference of longitudes.\n",
    "            a = sin(dlat/2)**2 + cos(pr1[0]) * cos(pr2[0]) * sin(dlon/2)**2\n",
    "            c = 2 * asin(sqrt(a)) \n",
    "            r = 6371 \n",
    "            return c * r\n",
    "        data=list(values)\n",
    "        distance=0\n",
    "        for i in range(len(data)-1):\n",
    "            lat1,lon1 = data[i][1], data[i][2]\n",
    "            lat2,lon2 = data[i+1][1], data[i+1][2]\n",
    "            d=haversine((lat1,lon1),(lat2,lon2))\n",
    "           \n",
    "            \n",
    "            if d<130:\n",
    "                distance+=d\n",
    "        yield key.split(';')[0], distance\n",
    "    def reducer(self, key, values):\n",
    "        yield key ,sum(list(values))         \n",
    "if __name__=='__main__':\n",
    "    busdistances.run()     "
   ]
  },
  {
   "cell_type": "code",
   "execution_count": 5,
   "metadata": {},
   "outputs": [
    {
     "name": "stderr",
     "output_type": "stream",
     "text": [
      "No configs found; falling back on auto-configuration\n",
      "No configs found; falling back on auto-configuration\n",
      "No configs found; falling back on auto-configuration\n",
      "No configs specified for inline runner\n",
      "No configs specified for inline runner\n",
      "No configs specified for inline runner\n",
      "Creating temp directory C:\\Users\\Mamun\\AppData\\Local\\Temp\\busdistances.Mamun.20191128.115806.709798\n",
      "Creating temp directory C:\\Users\\Mamun\\AppData\\Local\\Temp\\busdistances.Mamun.20191128.115806.709798\n",
      "Creating temp directory C:\\Users\\Mamun\\AppData\\Local\\Temp\\busdistances.Mamun.20191128.115806.709798\n",
      "Running step 1 of 1...\n",
      "Running step 1 of 1...\n",
      "Running step 1 of 1...\n",
      "job output is in C:\\Users\\Mamun\\AppData\\Local\\Temp\\busdistances.Mamun.20191128.115806.709798\\output\n",
      "job output is in C:\\Users\\Mamun\\AppData\\Local\\Temp\\busdistances.Mamun.20191128.115806.709798\\output\n",
      "job output is in C:\\Users\\Mamun\\AppData\\Local\\Temp\\busdistances.Mamun.20191128.115806.709798\\output\n",
      "Streaming final output from C:\\Users\\Mamun\\AppData\\Local\\Temp\\busdistances.Mamun.20191128.115806.709798\\output...\n",
      "Streaming final output from C:\\Users\\Mamun\\AppData\\Local\\Temp\\busdistances.Mamun.20191128.115806.709798\\output...\n",
      "Streaming final output from C:\\Users\\Mamun\\AppData\\Local\\Temp\\busdistances.Mamun.20191128.115806.709798\\output...\n",
      "Removing temp directory C:\\Users\\Mamun\\AppData\\Local\\Temp\\busdistances.Mamun.20191128.115806.709798...\n",
      "Removing temp directory C:\\Users\\Mamun\\AppData\\Local\\Temp\\busdistances.Mamun.20191128.115806.709798...\n",
      "Removing temp directory C:\\Users\\Mamun\\AppData\\Local\\Temp\\busdistances.Mamun.20191128.115806.709798...\n"
     ]
    }
   ],
   "source": [
    "%run busdistances.py journeys*"
   ]
  },
  {
   "cell_type": "markdown",
   "metadata": {},
   "source": [
    "# Alternatively"
   ]
  },
  {
   "cell_type": "code",
   "execution_count": 3,
   "metadata": {},
   "outputs": [
    {
     "name": "stdout",
     "output_type": "stream",
     "text": [
      "Overwriting busdistances.py\n"
     ]
    }
   ],
   "source": [
    "get_ipython().run_cell_magic('writefile', 'busdistances.py', \"from mrjob.job import MRJob\\n\\nclass busdistances(MRJob):\\n    \\n    def mapper(self, _, line):\\n        from datetime import datetime\\n        from collections import defaultdict\\n        parts=line.split(',')\\n        try:\\n            tstamp=datetime.strptime(parts[0], '%Y-%m-%dT%H:%M:%S.%f%z').time()\\n            hrs,mins,secs,mils=int(tstamp.hour), int(tstamp.minute), int(tstamp.second), int(tstamp.microsecond)\\n            \\n \\n            bref=parts[1]+parts[2]+parts[6]+parts[9]\\n            \\n            yield str(h)+';'+bref, [(hrs,mins,secs,mils), float(parts[5]), float(parts[4])] \\n        except:\\n            pass\\n    def combiner(self, key,values):\\n        from math import radians, cos, sin, asin, sqrt\\n        def haversine(p1, p2):  \\n            \\n            pr1 = (radians(float(p1[0])), radians(float(p1[1])))\\n            pr2 = (radians(float(p2[0])), radians(float(p2[1])))\\n\\n            # Haversine formula\\n            dlat = pr2[0] - pr1[0]   \\n            dlon = pr2[1] - pr1[1]   \\n            a = sin(dlat/2)**2 + cos(pr1[0]) * cos(pr2[0]) * sin(dlon/2)**2\\n            c = 2 * asin(sqrt(a)) \\n            r = 6371 \\n            return c * r\\n        data=list(values)\\n        distance=0\\n        for i in range(len(data)-1):\\n            lat1,lon1 = data[i][1], data[i][2]\\n            lat2,lon2 = data[i+1][1], data[i+1][2]\\n            d=haversine((lat1,lon1),(lat2,lon2))\\n           \\n            \\n            if d<130:\\n                distance+=d\\n        yield key.split(';')[0], distance\\n    def reducer(self, key, values):\\n        yield key ,sum(list(values))         \\nif __name__=='__main__':\\n    busdistances.run()     \")\n"
   ]
  },
  {
   "cell_type": "code",
   "execution_count": 4,
   "metadata": {},
   "outputs": [
    {
     "name": "stderr",
     "output_type": "stream",
     "text": [
      "No configs found; falling back on auto-configuration\n",
      "No configs found; falling back on auto-configuration\n",
      "No configs specified for inline runner\n",
      "No configs specified for inline runner\n",
      "Creating temp directory C:\\Users\\Mamun\\AppData\\Local\\Temp\\busdistances.Mamun.20191128.114318.033147\n",
      "Creating temp directory C:\\Users\\Mamun\\AppData\\Local\\Temp\\busdistances.Mamun.20191128.114318.033147\n",
      "Running step 1 of 1...\n",
      "Running step 1 of 1...\n",
      "job output is in C:\\Users\\Mamun\\AppData\\Local\\Temp\\busdistances.Mamun.20191128.114318.033147\\output\n",
      "job output is in C:\\Users\\Mamun\\AppData\\Local\\Temp\\busdistances.Mamun.20191128.114318.033147\\output\n",
      "Streaming final output from C:\\Users\\Mamun\\AppData\\Local\\Temp\\busdistances.Mamun.20191128.114318.033147\\output...\n",
      "Streaming final output from C:\\Users\\Mamun\\AppData\\Local\\Temp\\busdistances.Mamun.20191128.114318.033147\\output...\n",
      "Removing temp directory C:\\Users\\Mamun\\AppData\\Local\\Temp\\busdistances.Mamun.20191128.114318.033147...\n",
      "Removing temp directory C:\\Users\\Mamun\\AppData\\Local\\Temp\\busdistances.Mamun.20191128.114318.033147...\n"
     ]
    }
   ],
   "source": [
    "get_ipython().run_line_magic('run', 'busdistances.py journeys*')"
   ]
  },
  {
   "cell_type": "code",
   "execution_count": null,
   "metadata": {},
   "outputs": [],
   "source": []
  }
 ],
 "metadata": {
  "kernelspec": {
   "display_name": "Python 3",
   "language": "python",
   "name": "python3"
  },
  "language_info": {
   "codemirror_mode": {
    "name": "ipython",
    "version": 3
   },
   "file_extension": ".py",
   "mimetype": "text/x-python",
   "name": "python",
   "nbconvert_exporter": "python",
   "pygments_lexer": "ipython3",
   "version": "3.7.4"
  }
 },
 "nbformat": 4,
 "nbformat_minor": 2
}
