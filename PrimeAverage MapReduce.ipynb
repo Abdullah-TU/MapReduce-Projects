{
 "cells": [
  {
   "cell_type": "code",
   "execution_count": 5,
   "metadata": {},
   "outputs": [
    {
     "name": "stdout",
     "output_type": "stream",
     "text": [
      "Overwriting prime_average.py\n"
     ]
    }
   ],
   "source": [
    "get_ipython().run_cell_magic('writefile', 'prime_average.py', 'from mrjob.job import MRJob\\n\\n\\nclass prime_average(MRJob):\\n    def mapper(self, _, line):\\n        try:\\n            if len(line.split())!=0:\\n                pnums=list(map(int, line.split()))\\n                yield sum(pnums)/len(pnums),1\\n                \\n\\n        except:\\n            pass\\n    def combiner(self, key, values):\\n        yield \"avg\", key\\n        \\n        \\n    def reducer(self, key, values):\\n        count=0\\n        sumx=0\\n        for x in values:\\n            sumx+=x\\n            count+=1\\n        yield \" Average of all the prime numbers:\", sumx/count\\n       \\n                \\nif __name__==\"__main__\":\\n    prime_average.run()')\n"
   ]
  },
  {
   "cell_type": "code",
   "execution_count": 6,
   "metadata": {},
   "outputs": [
    {
     "name": "stderr",
     "output_type": "stream",
     "text": [
      "No configs found; falling back on auto-configuration\n",
      "No configs found; falling back on auto-configuration\n",
      "No configs found; falling back on auto-configuration\n",
      "No configs specified for inline runner\n",
      "No configs specified for inline runner\n",
      "No configs specified for inline runner\n",
      "Creating temp directory C:\\Users\\Mamun\\AppData\\Local\\Temp\\prime_average.Mamun.20191128.061056.964999\n",
      "Creating temp directory C:\\Users\\Mamun\\AppData\\Local\\Temp\\prime_average.Mamun.20191128.061056.964999\n",
      "Creating temp directory C:\\Users\\Mamun\\AppData\\Local\\Temp\\prime_average.Mamun.20191128.061056.964999\n",
      "Running step 1 of 1...\n",
      "Running step 1 of 1...\n",
      "Running step 1 of 1...\n",
      "job output is in C:\\Users\\Mamun\\AppData\\Local\\Temp\\prime_average.Mamun.20191128.061056.964999\\output\n",
      "job output is in C:\\Users\\Mamun\\AppData\\Local\\Temp\\prime_average.Mamun.20191128.061056.964999\\output\n",
      "job output is in C:\\Users\\Mamun\\AppData\\Local\\Temp\\prime_average.Mamun.20191128.061056.964999\\output\n",
      "Streaming final output from C:\\Users\\Mamun\\AppData\\Local\\Temp\\prime_average.Mamun.20191128.061056.964999\\output...\n",
      "Streaming final output from C:\\Users\\Mamun\\AppData\\Local\\Temp\\prime_average.Mamun.20191128.061056.964999\\output...\n",
      "Streaming final output from C:\\Users\\Mamun\\AppData\\Local\\Temp\\prime_average.Mamun.20191128.061056.964999\\output...\n"
     ]
    },
    {
     "name": "stdout",
     "output_type": "stream",
     "text": [
      "\" Average of all the prime numbers:\"\t7472966.967499\n"
     ]
    },
    {
     "name": "stderr",
     "output_type": "stream",
     "text": [
      "Removing temp directory C:\\Users\\Mamun\\AppData\\Local\\Temp\\prime_average.Mamun.20191128.061056.964999...\n",
      "Removing temp directory C:\\Users\\Mamun\\AppData\\Local\\Temp\\prime_average.Mamun.20191128.061056.964999...\n",
      "Removing temp directory C:\\Users\\Mamun\\AppData\\Local\\Temp\\prime_average.Mamun.20191128.061056.964999...\n"
     ]
    }
   ],
   "source": [
    "get_ipython().run_line_magic('run', 'prime_average.py primes1.txt')"
   ]
  }
 ],
 "metadata": {
  "kernelspec": {
   "display_name": "Python 3",
   "language": "python",
   "name": "python3"
  },
  "language_info": {
   "codemirror_mode": {
    "name": "ipython",
    "version": 3
   },
   "file_extension": ".py",
   "mimetype": "text/x-python",
   "name": "python",
   "nbconvert_exporter": "python",
   "pygments_lexer": "ipython3",
   "version": "3.7.4"
  }
 },
 "nbformat": 4,
 "nbformat_minor": 2
}
