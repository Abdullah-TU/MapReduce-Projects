{
 "cells": [
  {
   "cell_type": "code",
   "execution_count": 9,
   "metadata": {},
   "outputs": [
    {
     "name": "stdout",
     "output_type": "stream",
     "text": [
      "Overwriting lencounts.py\n"
     ]
    }
   ],
   "source": [
    "%%writefile lencounts.py\n",
    "from mrjob.job import MRJob\n",
    "from mrjob.protocol import RawValueProtocol\n",
    "class lencounts(MRJob):\n",
    "    OUTPUT_PROTOCOL = RawValueProtocol\n",
    "    def mapper(self, _, line):\n",
    "        from collections import defaultdict\n",
    "        import os\n",
    "        file_name=os.getenv('mapreduce_map_input_file').lstrip('file://')\n",
    "        x=defaultdict(int)\n",
    "        x[\"file\"]=file_name\n",
    "        for words in line.split():\n",
    "            x[len(words)]+=1\n",
    "        yield file_name, x\n",
    "        \n",
    "    def combiner(self, key, values):\n",
    "        from collections import defaultdict\n",
    "        import json\n",
    "        y=defaultdict(int)\n",
    "        y[\"file\"]=key\n",
    "        for x in values:\n",
    "            for m,n in x.items():\n",
    "                if m!=\"file\":\n",
    "                    y[m]+=n \n",
    "        yield key,json.dumps(y)\n",
    "        \n",
    "    def reducer(self, key, values):\n",
    "        import json\n",
    "        yield None,'{}'.format(json.loads(list(values)[0]))\n",
    "        \n",
    "if __name__==\"__main__\":\n",
    "    lencounts.run()"
   ]
  },
  {
   "cell_type": "code",
   "execution_count": 10,
   "metadata": {},
   "outputs": [
    {
     "name": "stderr",
     "output_type": "stream",
     "text": [
      "No configs found; falling back on auto-configuration\n",
      "No configs found; falling back on auto-configuration\n",
      "No configs found; falling back on auto-configuration\n",
      "No configs found; falling back on auto-configuration\n",
      "No configs found; falling back on auto-configuration\n",
      "No configs specified for inline runner\n",
      "No configs specified for inline runner\n",
      "No configs specified for inline runner\n",
      "No configs specified for inline runner\n",
      "No configs specified for inline runner\n",
      "Creating temp directory C:\\Users\\Mamun\\AppData\\Local\\Temp\\lencounts.Mamun.20191128.104414.985563\n",
      "Creating temp directory C:\\Users\\Mamun\\AppData\\Local\\Temp\\lencounts.Mamun.20191128.104414.985563\n",
      "Creating temp directory C:\\Users\\Mamun\\AppData\\Local\\Temp\\lencounts.Mamun.20191128.104414.985563\n",
      "Creating temp directory C:\\Users\\Mamun\\AppData\\Local\\Temp\\lencounts.Mamun.20191128.104414.985563\n",
      "Creating temp directory C:\\Users\\Mamun\\AppData\\Local\\Temp\\lencounts.Mamun.20191128.104414.985563\n",
      "Running step 1 of 1...\n",
      "Running step 1 of 1...\n",
      "Running step 1 of 1...\n",
      "Running step 1 of 1...\n",
      "Running step 1 of 1...\n",
      "job output is in C:\\Users\\Mamun\\AppData\\Local\\Temp\\lencounts.Mamun.20191128.104414.985563\\output\n",
      "job output is in C:\\Users\\Mamun\\AppData\\Local\\Temp\\lencounts.Mamun.20191128.104414.985563\\output\n",
      "job output is in C:\\Users\\Mamun\\AppData\\Local\\Temp\\lencounts.Mamun.20191128.104414.985563\\output\n",
      "job output is in C:\\Users\\Mamun\\AppData\\Local\\Temp\\lencounts.Mamun.20191128.104414.985563\\output\n",
      "job output is in C:\\Users\\Mamun\\AppData\\Local\\Temp\\lencounts.Mamun.20191128.104414.985563\\output\n",
      "Streaming final output from C:\\Users\\Mamun\\AppData\\Local\\Temp\\lencounts.Mamun.20191128.104414.985563\\output...\n",
      "Streaming final output from C:\\Users\\Mamun\\AppData\\Local\\Temp\\lencounts.Mamun.20191128.104414.985563\\output...\n",
      "Streaming final output from C:\\Users\\Mamun\\AppData\\Local\\Temp\\lencounts.Mamun.20191128.104414.985563\\output...\n",
      "Streaming final output from C:\\Users\\Mamun\\AppData\\Local\\Temp\\lencounts.Mamun.20191128.104414.985563\\output...\n",
      "Streaming final output from C:\\Users\\Mamun\\AppData\\Local\\Temp\\lencounts.Mamun.20191128.104414.985563\\output...\n"
     ]
    },
    {
     "name": "stdout",
     "output_type": "stream",
     "text": [
      "{'file': 'americana.txt1', '4': 7382, '10': 1354, '3': 10633, '5': 5956, '9': 2154, '6': 5168, '2': 9258, '7': 4208, '1': 1599, '8': 3090, '15': 44, '12': 432, '11': 730, '13': 164, '14': 84, '17': 11, '16': 10, '18': 3}\n",
      "{'file': 'americana.txt2', '2': 9773, '10': 1500, '4': 7228, '3': 10728, '5': 5382, '12': 417, '8': 3165, '6': 4864, '7': 4110, '1': 1692, '9': 2390, '11': 755, '13': 195, '14': 93, '15': 25, '17': 5, '19': 1, '16': 14, '20': 1, '34': 1, '21': 1}\n",
      "{'file': 'americana.txt3', '7': 3890, '5': 5796, '2': 9484, '14': 104, '13': 237, '3': 10314, '10': 1655, '4': 7332, '9': 2558, '6': 4340, '11': 888, '8': 2968, '1': 1388, '12': 525, '16': 12, '15': 39, '17': 3, '22': 1, '19': 3, '20': 1, '18': 2}\n",
      "{'file': 'americana.txt4', '4': 7040, '5': 6139, '3': 11205, '6': 4562, '10': 1399, '2': 8640, '13': 200, '9': 2222, '7': 4349, '8': 3197, '12': 450, '11': 800, '1': 1429, '14': 96, '15': 32, '18': 10, '16': 8, '23': 1, '19': 1}\n",
      "{'file': 'americana.txt5', '2': 9240, '3': 10274, '10': 1497, '6': 4825, '1': 1794, '5': 5672, '4': 7084, '7': 4350, '8': 2977, '12': 501, '9': 2301, '11': 870, '14': 91, '13': 238, '15': 32, '21': 1, '16': 11, '17': 7, '24': 1, '29': 1, '19': 2, '18': 1}\n",
      "{'file': 'americana.txt6', '2': 9957, '3': 10756, '6': 4623, '8': 2892, '4': 6867, '1': 1592, '5': 5621, '7': 3919, '9': 2203, '14': 149, '11': 1014, '10': 1634, '12': 526, '13': 246, '15': 28, '16': 5, '19': 1, '17': 3, '27': 1, '24': 1, '18': 1, '28': 1}\n",
      "{'file': 'americana.txt7', '7': 4009, '5': 5860, '8': 3119, '3': 10407, '4': 7721, '6': 4657, '14': 106, '2': 9833, '10': 1501, '1': 1675, '9': 2084, '11': 734, '13': 205, '12': 493, '15': 47, '17': 6, '20': 1, '16': 13, '18': 6, '24': 1, '27': 1, '19': 1}\n",
      "{'file': 'americana.txt8', '3': 11137, '4': 7652, '2': 9398, '5': 5896, '12': 439, '8': 3065, '6': 4749, '7': 4226, '11': 667, '9': 2218, '13': 195, '10': 1310, '1': 1623, '14': 77, '15': 21, '19': 2, '16': 11, '17': 9, '33': 1, '23': 1, '25': 1, '18': 2}\n",
      "{'file': 'americana.txt9', '2': 6279, '5': 3990, '9': 1363, '1': 1078, '8': 1873, '3': 6914, '4': 4938, '12': 235, '6': 2837, '7': 2623, '11': 420, '10': 843, '14': 42, '13': 103, '17': 5, '16': 7, '15': 26, '23': 1, '18': 3, '38': 1, '31': 1, '19': 1, '20': 1, '27': 1}\n"
     ]
    },
    {
     "name": "stderr",
     "output_type": "stream",
     "text": [
      "Removing temp directory C:\\Users\\Mamun\\AppData\\Local\\Temp\\lencounts.Mamun.20191128.104414.985563...\n",
      "Removing temp directory C:\\Users\\Mamun\\AppData\\Local\\Temp\\lencounts.Mamun.20191128.104414.985563...\n",
      "Removing temp directory C:\\Users\\Mamun\\AppData\\Local\\Temp\\lencounts.Mamun.20191128.104414.985563...\n",
      "Removing temp directory C:\\Users\\Mamun\\AppData\\Local\\Temp\\lencounts.Mamun.20191128.104414.985563...\n",
      "Removing temp directory C:\\Users\\Mamun\\AppData\\Local\\Temp\\lencounts.Mamun.20191128.104414.985563...\n"
     ]
    }
   ],
   "source": [
    "%run lencounts.py americana.txt*"
   ]
  },
  {
   "cell_type": "markdown",
   "metadata": {},
   "source": [
    "# Alternatively"
   ]
  },
  {
   "cell_type": "code",
   "execution_count": 13,
   "metadata": {},
   "outputs": [
    {
     "name": "stdout",
     "output_type": "stream",
     "text": [
      "Overwriting lencounts.py\n"
     ]
    }
   ],
   "source": [
    "get_ipython().run_cell_magic('writefile', 'lencounts.py', 'from mrjob.job import MRJob\\nfrom mrjob.protocol import RawValueProtocol\\nclass lencounts(MRJob):\\n    OUTPUT_PROTOCOL = RawValueProtocol\\n    def mapper(self, _, line):\\n        from collections import defaultdict\\n        import os\\n        file_name=os.getenv(\\'mapreduce_map_input_file\\').lstrip(\\'file://\\')\\n        x=defaultdict(int)\\n        x[\"file\"]=file_name\\n        for words in line.split():\\n            x[len(words)]+=1\\n        yield file_name, x\\n        \\n    def combiner(self, key, values):\\n        from collections import defaultdict\\n        import json\\n        y=defaultdict(int)\\n        y[\"file\"]=key\\n        for x in values:\\n            for m,n in x.items():\\n                if m!=\"file\":\\n                    y[m]+=n \\n        yield key,json.dumps(y)\\n        \\n    def reducer(self, key, values):\\n        import json\\n        yield None,\\'{}\\'.format(json.loads(list(values)[0]))\\n        \\nif __name__==\"__main__\":\\n    lencounts.run()')\n"
   ]
  },
  {
   "cell_type": "code",
   "execution_count": 12,
   "metadata": {},
   "outputs": [
    {
     "name": "stderr",
     "output_type": "stream",
     "text": [
      "No configs found; falling back on auto-configuration\n",
      "No configs found; falling back on auto-configuration\n",
      "No configs found; falling back on auto-configuration\n",
      "No configs found; falling back on auto-configuration\n",
      "No configs found; falling back on auto-configuration\n",
      "No configs found; falling back on auto-configuration\n",
      "No configs specified for inline runner\n",
      "No configs specified for inline runner\n",
      "No configs specified for inline runner\n",
      "No configs specified for inline runner\n",
      "No configs specified for inline runner\n",
      "No configs specified for inline runner\n",
      "Creating temp directory C:\\Users\\Mamun\\AppData\\Local\\Temp\\lencounts.Mamun.20191128.104456.872720\n",
      "Creating temp directory C:\\Users\\Mamun\\AppData\\Local\\Temp\\lencounts.Mamun.20191128.104456.872720\n",
      "Creating temp directory C:\\Users\\Mamun\\AppData\\Local\\Temp\\lencounts.Mamun.20191128.104456.872720\n",
      "Creating temp directory C:\\Users\\Mamun\\AppData\\Local\\Temp\\lencounts.Mamun.20191128.104456.872720\n",
      "Creating temp directory C:\\Users\\Mamun\\AppData\\Local\\Temp\\lencounts.Mamun.20191128.104456.872720\n",
      "Creating temp directory C:\\Users\\Mamun\\AppData\\Local\\Temp\\lencounts.Mamun.20191128.104456.872720\n",
      "Running step 1 of 1...\n",
      "Running step 1 of 1...\n",
      "Running step 1 of 1...\n",
      "Running step 1 of 1...\n",
      "Running step 1 of 1...\n",
      "Running step 1 of 1...\n",
      "job output is in C:\\Users\\Mamun\\AppData\\Local\\Temp\\lencounts.Mamun.20191128.104456.872720\\output\n",
      "job output is in C:\\Users\\Mamun\\AppData\\Local\\Temp\\lencounts.Mamun.20191128.104456.872720\\output\n",
      "job output is in C:\\Users\\Mamun\\AppData\\Local\\Temp\\lencounts.Mamun.20191128.104456.872720\\output\n",
      "job output is in C:\\Users\\Mamun\\AppData\\Local\\Temp\\lencounts.Mamun.20191128.104456.872720\\output\n",
      "job output is in C:\\Users\\Mamun\\AppData\\Local\\Temp\\lencounts.Mamun.20191128.104456.872720\\output\n",
      "job output is in C:\\Users\\Mamun\\AppData\\Local\\Temp\\lencounts.Mamun.20191128.104456.872720\\output\n",
      "Streaming final output from C:\\Users\\Mamun\\AppData\\Local\\Temp\\lencounts.Mamun.20191128.104456.872720\\output...\n",
      "Streaming final output from C:\\Users\\Mamun\\AppData\\Local\\Temp\\lencounts.Mamun.20191128.104456.872720\\output...\n",
      "Streaming final output from C:\\Users\\Mamun\\AppData\\Local\\Temp\\lencounts.Mamun.20191128.104456.872720\\output...\n",
      "Streaming final output from C:\\Users\\Mamun\\AppData\\Local\\Temp\\lencounts.Mamun.20191128.104456.872720\\output...\n",
      "Streaming final output from C:\\Users\\Mamun\\AppData\\Local\\Temp\\lencounts.Mamun.20191128.104456.872720\\output...\n",
      "Streaming final output from C:\\Users\\Mamun\\AppData\\Local\\Temp\\lencounts.Mamun.20191128.104456.872720\\output...\n"
     ]
    },
    {
     "name": "stdout",
     "output_type": "stream",
     "text": [
      "{'file': 'americana.txt1', '4': 7382, '10': 1354, '3': 10633, '5': 5956, '9': 2154, '6': 5168, '2': 9258, '7': 4208, '1': 1599, '8': 3090, '15': 44, '12': 432, '11': 730, '13': 164, '14': 84, '17': 11, '16': 10, '18': 3}\n",
      "{'file': 'americana.txt2', '2': 9773, '10': 1500, '4': 7228, '3': 10728, '5': 5382, '12': 417, '8': 3165, '6': 4864, '7': 4110, '1': 1692, '9': 2390, '11': 755, '13': 195, '14': 93, '15': 25, '17': 5, '19': 1, '16': 14, '20': 1, '34': 1, '21': 1}\n",
      "{'file': 'americana.txt3', '7': 3890, '5': 5796, '2': 9484, '14': 104, '13': 237, '3': 10314, '10': 1655, '4': 7332, '9': 2558, '6': 4340, '11': 888, '8': 2968, '1': 1388, '12': 525, '16': 12, '15': 39, '17': 3, '22': 1, '19': 3, '20': 1, '18': 2}\n",
      "{'file': 'americana.txt4', '4': 7040, '5': 6139, '3': 11205, '6': 4562, '10': 1399, '2': 8640, '13': 200, '9': 2222, '7': 4349, '8': 3197, '12': 450, '11': 800, '1': 1429, '14': 96, '15': 32, '18': 10, '16': 8, '23': 1, '19': 1}\n",
      "{'file': 'americana.txt5', '2': 9240, '3': 10274, '10': 1497, '6': 4825, '1': 1794, '5': 5672, '4': 7084, '7': 4350, '8': 2977, '12': 501, '9': 2301, '11': 870, '14': 91, '13': 238, '15': 32, '21': 1, '16': 11, '17': 7, '24': 1, '29': 1, '19': 2, '18': 1}\n",
      "{'file': 'americana.txt6', '2': 9957, '3': 10756, '6': 4623, '8': 2892, '4': 6867, '1': 1592, '5': 5621, '7': 3919, '9': 2203, '14': 149, '11': 1014, '10': 1634, '12': 526, '13': 246, '15': 28, '16': 5, '19': 1, '17': 3, '27': 1, '24': 1, '18': 1, '28': 1}\n",
      "{'file': 'americana.txt7', '7': 4009, '5': 5860, '8': 3119, '3': 10407, '4': 7721, '6': 4657, '14': 106, '2': 9833, '10': 1501, '1': 1675, '9': 2084, '11': 734, '13': 205, '12': 493, '15': 47, '17': 6, '20': 1, '16': 13, '18': 6, '24': 1, '27': 1, '19': 1}\n",
      "{'file': 'americana.txt8', '3': 11137, '4': 7652, '2': 9398, '5': 5896, '12': 439, '8': 3065, '6': 4749, '7': 4226, '11': 667, '9': 2218, '13': 195, '10': 1310, '1': 1623, '14': 77, '15': 21, '19': 2, '16': 11, '17': 9, '33': 1, '23': 1, '25': 1, '18': 2}\n",
      "{'file': 'americana.txt9', '2': 6279, '5': 3990, '9': 1363, '1': 1078, '8': 1873, '3': 6914, '4': 4938, '12': 235, '6': 2837, '7': 2623, '11': 420, '10': 843, '14': 42, '13': 103, '17': 5, '16': 7, '15': 26, '23': 1, '18': 3, '38': 1, '31': 1, '19': 1, '20': 1, '27': 1}\n"
     ]
    },
    {
     "name": "stderr",
     "output_type": "stream",
     "text": [
      "Removing temp directory C:\\Users\\Mamun\\AppData\\Local\\Temp\\lencounts.Mamun.20191128.104456.872720...\n",
      "Removing temp directory C:\\Users\\Mamun\\AppData\\Local\\Temp\\lencounts.Mamun.20191128.104456.872720...\n",
      "Removing temp directory C:\\Users\\Mamun\\AppData\\Local\\Temp\\lencounts.Mamun.20191128.104456.872720...\n",
      "Removing temp directory C:\\Users\\Mamun\\AppData\\Local\\Temp\\lencounts.Mamun.20191128.104456.872720...\n",
      "Removing temp directory C:\\Users\\Mamun\\AppData\\Local\\Temp\\lencounts.Mamun.20191128.104456.872720...\n",
      "Removing temp directory C:\\Users\\Mamun\\AppData\\Local\\Temp\\lencounts.Mamun.20191128.104456.872720...\n"
     ]
    }
   ],
   "source": [
    "get_ipython().run_line_magic('run', 'lencounts.py americana.txt*')"
   ]
  },
  {
   "cell_type": "code",
   "execution_count": null,
   "metadata": {},
   "outputs": [],
   "source": []
  }
 ],
 "metadata": {
  "kernelspec": {
   "display_name": "Python 3",
   "language": "python",
   "name": "python3"
  },
  "language_info": {
   "codemirror_mode": {
    "name": "ipython",
    "version": 3
   },
   "file_extension": ".py",
   "mimetype": "text/x-python",
   "name": "python",
   "nbconvert_exporter": "python",
   "pygments_lexer": "ipython3",
   "version": "3.7.4"
  }
 },
 "nbformat": 4,
 "nbformat_minor": 2
}
