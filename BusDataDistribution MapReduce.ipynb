{
 "cells": [
  {
   "cell_type": "code",
   "execution_count": 10,
   "metadata": {},
   "outputs": [
    {
     "name": "stdout",
     "output_type": "stream",
     "text": [
      "Overwriting bus_data_distribution.py\n"
     ]
    }
   ],
   "source": [
    "get_ipython().run_cell_magic('writefile', 'bus_data_distribution.py', 'from mrjob.job import MRJob\\nfrom mrjob.protocol import RawValueProtocol\\nclass bus_data_distribution(MRJob):\\n    OUTPUT_PROTOCOL = RawValueProtocol\\n    def mapper(self, _,line):\\n        counts=line.split(\\';\\')\\n        hours=counts[1].split(\\':\\')[0]\\n        try:\\n            yield int(hours), 1\\n        except:\\n            pass\\n    \\n    def combiner(self, key, value):\\n        yield key, sum(value)\\n        \\n    def reducer(self, key, value):\\n        yield None, \\'{};{}\\'.format(key, sum(value))\\n\\nif __name__==\"__main__\":\\n    bus_data_distribution.run()')\n"
   ]
  },
  {
   "cell_type": "code",
   "execution_count": 11,
   "metadata": {},
   "outputs": [
    {
     "name": "stderr",
     "output_type": "stream",
     "text": [
      "No configs found; falling back on auto-configuration\n",
      "No configs found; falling back on auto-configuration\n",
      "No configs found; falling back on auto-configuration\n",
      "No configs found; falling back on auto-configuration\n",
      "No configs found; falling back on auto-configuration\n",
      "No configs specified for inline runner\n",
      "No configs specified for inline runner\n",
      "No configs specified for inline runner\n",
      "No configs specified for inline runner\n",
      "No configs specified for inline runner\n",
      "Creating temp directory C:\\Users\\Mamun\\AppData\\Local\\Temp\\bus_data_distribution.Mamun.20191127.132054.320263\n",
      "Creating temp directory C:\\Users\\Mamun\\AppData\\Local\\Temp\\bus_data_distribution.Mamun.20191127.132054.320263\n",
      "Creating temp directory C:\\Users\\Mamun\\AppData\\Local\\Temp\\bus_data_distribution.Mamun.20191127.132054.320263\n",
      "Creating temp directory C:\\Users\\Mamun\\AppData\\Local\\Temp\\bus_data_distribution.Mamun.20191127.132054.320263\n",
      "Creating temp directory C:\\Users\\Mamun\\AppData\\Local\\Temp\\bus_data_distribution.Mamun.20191127.132054.320263\n",
      "Running step 1 of 1...\n",
      "Running step 1 of 1...\n",
      "Running step 1 of 1...\n",
      "Running step 1 of 1...\n",
      "Running step 1 of 1...\n",
      "job output is in C:\\Users\\Mamun\\AppData\\Local\\Temp\\bus_data_distribution.Mamun.20191127.132054.320263\\output\n",
      "job output is in C:\\Users\\Mamun\\AppData\\Local\\Temp\\bus_data_distribution.Mamun.20191127.132054.320263\\output\n",
      "job output is in C:\\Users\\Mamun\\AppData\\Local\\Temp\\bus_data_distribution.Mamun.20191127.132054.320263\\output\n",
      "job output is in C:\\Users\\Mamun\\AppData\\Local\\Temp\\bus_data_distribution.Mamun.20191127.132054.320263\\output\n",
      "job output is in C:\\Users\\Mamun\\AppData\\Local\\Temp\\bus_data_distribution.Mamun.20191127.132054.320263\\output\n",
      "Streaming final output from C:\\Users\\Mamun\\AppData\\Local\\Temp\\bus_data_distribution.Mamun.20191127.132054.320263\\output...\n",
      "Streaming final output from C:\\Users\\Mamun\\AppData\\Local\\Temp\\bus_data_distribution.Mamun.20191127.132054.320263\\output...\n",
      "Streaming final output from C:\\Users\\Mamun\\AppData\\Local\\Temp\\bus_data_distribution.Mamun.20191127.132054.320263\\output...\n",
      "Streaming final output from C:\\Users\\Mamun\\AppData\\Local\\Temp\\bus_data_distribution.Mamun.20191127.132054.320263\\output...\n",
      "Streaming final output from C:\\Users\\Mamun\\AppData\\Local\\Temp\\bus_data_distribution.Mamun.20191127.132054.320263\\output...\n"
     ]
    },
    {
     "name": "stdout",
     "output_type": "stream",
     "text": [
      "0;11146\n",
      "10;7842\n",
      "11;55839\n",
      "12;63900\n",
      "13;267964\n",
      "14;159825\n",
      "15;30058\n",
      "16;110325\n",
      "17;68919\n",
      "18;228476\n",
      "19;88894\n",
      "2;1658\n",
      "20;73257\n",
      "21;107740\n",
      "22;66809\n",
      "23;11008\n",
      "3;9169\n",
      "4;1715\n",
      "8;130807\n",
      "9;222687\n"
     ]
    },
    {
     "name": "stderr",
     "output_type": "stream",
     "text": [
      "Removing temp directory C:\\Users\\Mamun\\AppData\\Local\\Temp\\bus_data_distribution.Mamun.20191127.132054.320263...\n",
      "Removing temp directory C:\\Users\\Mamun\\AppData\\Local\\Temp\\bus_data_distribution.Mamun.20191127.132054.320263...\n",
      "Removing temp directory C:\\Users\\Mamun\\AppData\\Local\\Temp\\bus_data_distribution.Mamun.20191127.132054.320263...\n",
      "Removing temp directory C:\\Users\\Mamun\\AppData\\Local\\Temp\\bus_data_distribution.Mamun.20191127.132054.320263...\n",
      "Removing temp directory C:\\Users\\Mamun\\AppData\\Local\\Temp\\bus_data_distribution.Mamun.20191127.132054.320263...\n"
     ]
    }
   ],
   "source": [
    "get_ipython().run_line_magic('run', 'bus_data_distribution.py busdatas.csv')"
   ]
  }
 ],
 "metadata": {
  "kernelspec": {
   "display_name": "Python 3",
   "language": "python",
   "name": "python3"
  },
  "language_info": {
   "codemirror_mode": {
    "name": "ipython",
    "version": 3
   },
   "file_extension": ".py",
   "mimetype": "text/x-python",
   "name": "python",
   "nbconvert_exporter": "python",
   "pygments_lexer": "ipython3",
   "version": "3.7.4"
  }
 },
 "nbformat": 4,
 "nbformat_minor": 2
}
